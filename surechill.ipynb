{
  "nbformat": 4,
  "nbformat_minor": 0,
  "metadata": {
    "colab": {
      "provenance": [],
      "authorship_tag": "ABX9TyNeao4zHfiY08qapMpS63P+",
      "include_colab_link": true
    },
    "kernelspec": {
      "name": "python3",
      "display_name": "Python 3"
    },
    "language_info": {
      "name": "python"
    }
  },
  "cells": [
    {
      "cell_type": "markdown",
      "metadata": {
        "id": "view-in-github",
        "colab_type": "text"
      },
      "source": [
        "<a href=\"https://colab.research.google.com/github/harvydavies/synoptic-physics-w6-Surechill/blob/main/surechill.ipynb\" target=\"_parent\"><img src=\"https://colab.research.google.com/assets/colab-badge.svg\" alt=\"Open In Colab\"/></a>"
      ]
    },
    {
      "cell_type": "code",
      "execution_count": 1,
      "metadata": {
        "id": "SD0veXM-OSAP"
      },
      "outputs": [],
      "source": [
        "import numpy as np\n",
        "import matplotlib.pyplot as plt"
      ]
    },
    {
      "cell_type": "code",
      "source": [
        "'''\n",
        "cw = specific heat capacity of water\n",
        "'''\n"
      ],
      "metadata": {
        "colab": {
          "base_uri": "https://localhost:8080/",
          "height": 35
        },
        "id": "xpViZJ_XfXtq",
        "outputId": "6227d6f0-b0f3-4831-984e-e0b282125a78"
      },
      "execution_count": 2,
      "outputs": [
        {
          "output_type": "execute_result",
          "data": {
            "text/plain": [
              "'\\ncw = specific heat capacity of water\\n'"
            ],
            "application/vnd.google.colaboratory.intrinsic+json": {
              "type": "string"
            }
          },
          "metadata": {},
          "execution_count": 2
        }
      ]
    },
    {
      "cell_type": "code",
      "source": [
        "'''\n",
        "cw = 4200\n",
        "maxvolice = (2/3)*vol_top\n",
        "vol_top =\n",
        "density of polystyrene =\n",
        "\n",
        "'''\n",
        "\n",
        "#SA = 2.58/2\n",
        "SA = 0.9\n",
        "k = 0.036\n",
        "dt = 41\n",
        "#L = 0.07\n",
        "L = 0.1\n",
        "\n",
        "p = (SA*k*dt)/(L)\n",
        "\n",
        "print(p)"
      ],
      "metadata": {
        "id": "NXwjT2JWQjCk",
        "colab": {
          "base_uri": "https://localhost:8080/"
        },
        "outputId": "bb5504d3-6063-4d83-b66d-b416f9051d32"
      },
      "execution_count": 15,
      "outputs": [
        {
          "output_type": "stream",
          "name": "stdout",
          "text": [
            "13.283999999999999\n"
          ]
        }
      ]
    },
    {
      "cell_type": "code",
      "source": [
        "L = 0.001"
      ],
      "metadata": {
        "id": "7wCMD9rCq3MR"
      },
      "execution_count": 4,
      "outputs": []
    },
    {
      "cell_type": "code",
      "source": [
        "cw = 4200\n",
        "vol_cham = 12*L\n",
        "\n",
        "base = 0.3\n",
        "width = 0.3\n",
        "height_b = 0.3\n",
        "#height_t = ?\n",
        "\n",
        "mass_w_and_i = 11.276\n",
        "den_w_and_i =998 #this is jus the density of water\n",
        "vol_wi = mass_w_and_i/den_w_and_i\n",
        "\n",
        "print(vol_wi)\n",
        "\n",
        "den_poly = 30\n",
        "#vol_poly = den_poly*mass_poly\n",
        "#mass_poly =\n"
      ],
      "metadata": {
        "colab": {
          "base_uri": "https://localhost:8080/"
        },
        "id": "rcexNTF-fyvB",
        "outputId": "8807a67c-a8fc-47d8-c6df-fa79b5e6bed9"
      },
      "execution_count": 8,
      "outputs": [
        {
          "output_type": "stream",
          "name": "stdout",
          "text": [
            "0.011298597194388778\n"
          ]
        }
      ]
    }
  ]
}